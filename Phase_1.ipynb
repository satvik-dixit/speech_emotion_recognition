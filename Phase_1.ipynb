{
  "nbformat": 4,
  "nbformat_minor": 0,
  "metadata": {
    "colab": {
      "name": "Kaggle_phase_1.ipynb",
      "provenance": [],
      "authorship_tag": "ABX9TyMJlCO2SoUVekD2+MXKkk5q",
      "include_colab_link": true
    },
    "kernelspec": {
      "name": "python3",
      "display_name": "Python 3"
    },
    "language_info": {
      "name": "python"
    }
  },
  "cells": [
    {
      "cell_type": "markdown",
      "metadata": {
        "id": "view-in-github",
        "colab_type": "text"
      },
      "source": [
        "<a href=\"https://colab.research.google.com/github/satvik-dixit/speech_emotion_recognition/blob/main/Phase_1.ipynb\" target=\"_parent\"><img src=\"https://colab.research.google.com/assets/colab-badge.svg\" alt=\"Open In Colab\"/></a>"
      ]
    },
    {
      "cell_type": "markdown",
      "source": [
        "# Kaggle datasets"
      ],
      "metadata": {
        "id": "ziyDk4cxk1wh"
      }
    },
    {
      "cell_type": "code",
      "source": [
        "import numpy as np\n",
        "import soundfile as sf\n",
        "from glob import glob\n",
        "import librosa\n",
        "import os\n",
        "from glob import glob"
      ],
      "metadata": {
        "id": "KzKQQopg1I09"
      },
      "execution_count": null,
      "outputs": []
    },
    {
      "cell_type": "code",
      "execution_count": null,
      "metadata": {
        "colab": {
          "base_uri": "https://localhost:8080/"
        },
        "id": "2r74_jiSWxp9",
        "outputId": "259084ca-4955-400c-84f6-391214c6b536"
      },
      "outputs": [
        {
          "output_type": "stream",
          "name": "stdout",
          "text": [
            "mkdir: cannot create directory ‘/root/.kaggle_crema_d’: File exists\n"
          ]
        }
      ],
      "source": [
        "! pip install -q kaggle\n",
        "# Name directory\n",
        "! mkdir ~/.kaggle_crema_d\n",
        "! cp kaggle.json ~/.kaggle_crema_d/\n",
        "! chmod 600 ~/.kaggle_crema_d/kaggle.json"
      ]
    },
    {
      "cell_type": "code",
      "source": [
        "# Paste API from kaggle\n",
        "! kaggle datasets download -d ejlok1/toronto-emotional-speech-set-tess"
      ],
      "metadata": {
        "colab": {
          "base_uri": "https://localhost:8080/"
        },
        "id": "i1r_PCkmYH8X",
        "outputId": "70395326-5e36-4c35-dfd8-6b39c6034983"
      },
      "execution_count": null,
      "outputs": [
        {
          "output_type": "stream",
          "name": "stdout",
          "text": [
            "toronto-emotional-speech-set-tess.zip: Skipping, found more recently modified local copy (use --force to force download)\n"
          ]
        }
      ]
    },
    {
      "cell_type": "code",
      "source": [
        "# Unzip\n",
        "! unzip toronto-emotional-speech-set-tess.zip"
      ],
      "metadata": {
        "colab": {
          "base_uri": "https://localhost:8080/"
        },
        "id": "QxCjoigymdvy",
        "outputId": "5a8a082f-106c-4364-d0df-ca3d9673e535"
      },
      "execution_count": null,
      "outputs": [
        {
          "output_type": "stream",
          "name": "stdout",
          "text": [
            "Archive:  toronto-emotional-speech-set-tess.zip\n",
            "replace TESS Toronto emotional speech set data/OAF_Fear/OAF_back_fear.wav? [y]es, [n]o, [A]ll, [N]one, [r]ename: no\n",
            "replace TESS Toronto emotional speech set data/OAF_Fear/OAF_bar_fear.wav? [y]es, [n]o, [A]ll, [N]one, [r]ename: None\n"
          ]
        }
      ]
    },
    {
      "cell_type": "code",
      "source": [
        "\n",
        "def load_audio_files(folder_path, resampling_frequency=16000, audio_array=None):\n",
        "    '''\n",
        "    Loads and resamples audio files \n",
        "    \n",
        "    Parameters\n",
        "    ------------\n",
        "    folder_path: string\n",
        "        The path of the folder containing audio files to be loaded\n",
        "    resampling_frequency: integer\n",
        "        The frequency which all audios will be resampled to\n",
        "    \n",
        "    Returns\n",
        "    ------------\n",
        "    audio_array: list of arrays\n",
        "        A list of arrays, one array for each audio file\n",
        "        \n",
        "    '''\n",
        "\n",
        "    # Processing audio files\n",
        "    audio_files = glob(os.path.join(folder_path,'*.wav'))\n",
        "\n",
        "    # Making audio_array\n",
        "    if audio_array is None:\n",
        "      audio_array = []\n",
        "\n",
        "    # Resampling\n",
        "    for audio in audio_files:\n",
        "        signal, fs = librosa.load(audio, sr=resampling_frequency)\n",
        "        # default dtype = np.float32, check?\n",
        "        # sr=resampling_frequency resamples to resampling_frequency, check?\n",
        "        audio_array.append(signal)\n",
        "        \n",
        "    return audio_array\n",
        "        "
      ],
      "metadata": {
        "id": "Ae5OWFUETeZC"
      },
      "execution_count": null,
      "outputs": []
    },
    {
      "cell_type": "code",
      "source": [
        "# Using load_audio_files function\n",
        "audio_array = load_audio_files(folder_path = '/content/TESS Toronto emotional speech set data/OAF_Fear', resampling_frequency=16000)\n",
        "print('number of audio files: {}'.format(len(audio_array)))"
      ],
      "metadata": {
        "colab": {
          "base_uri": "https://localhost:8080/"
        },
        "id": "nC_OPi_WUgGL",
        "outputId": "c8e028dd-eb37-4750-ff39-943d4190bc53"
      },
      "execution_count": null,
      "outputs": [
        {
          "output_type": "stream",
          "name": "stdout",
          "text": [
            "number of audio files: 200\n"
          ]
        }
      ]
    },
    {
      "cell_type": "markdown",
      "source": [
        "# Example 1: EmoDB"
      ],
      "metadata": {
        "id": "CI1IlPpVS9gs"
      }
    },
    {
      "cell_type": "code",
      "source": [
        "! kaggle datasets download -d piyushagni5/berlin-database-of-emotional-speech-emodb\n",
        "! unzip download.zip\n"
      ],
      "metadata": {
        "colab": {
          "base_uri": "https://localhost:8080/"
        },
        "id": "7X2P1VQaTper",
        "outputId": "dfc23993-0883-42c4-97e0-2f8f01edd457"
      },
      "execution_count": null,
      "outputs": [
        {
          "output_type": "stream",
          "name": "stdout",
          "text": [
            "berlin-database-of-emotional-speech-emodb.zip: Skipping, found more recently modified local copy (use --force to force download)\n",
            "unzip:  cannot find or open download.zip, download.zip.zip or download.zip.ZIP.\n"
          ]
        }
      ]
    },
    {
      "cell_type": "code",
      "source": [
        "\n",
        "# Using load_audio_files function\n",
        "audio_array = load_audio_files(folder_path = '/content/wav', resampling_frequency=16000)\n",
        "print('number of audio files: {}'.format(len(audio_array)))"
      ],
      "metadata": {
        "colab": {
          "base_uri": "https://localhost:8080/"
        },
        "id": "NxHZGd7iS8xG",
        "outputId": "d1da178b-cad4-4f7f-cf05-fa05b8d2cea3"
      },
      "execution_count": null,
      "outputs": [
        {
          "output_type": "stream",
          "name": "stdout",
          "text": [
            "number of audio files: 535\n"
          ]
        }
      ]
    },
    {
      "cell_type": "markdown",
      "source": [
        "# Example 2: CREMA-D"
      ],
      "metadata": {
        "id": "PEVlk3DzTsHW"
      }
    },
    {
      "cell_type": "code",
      "source": [
        "! kaggle datasets download -d ejlok1/cremad\n",
        "! unzip cremad.zip"
      ],
      "metadata": {
        "colab": {
          "base_uri": "https://localhost:8080/"
        },
        "id": "aXUfN3TaT2vp",
        "outputId": "13dee004-73ea-4b9b-8425-58418f9ecf88"
      },
      "execution_count": null,
      "outputs": [
        {
          "output_type": "stream",
          "name": "stdout",
          "text": [
            "cremad.zip: Skipping, found more recently modified local copy (use --force to force download)\n",
            "Archive:  cremad.zip\n",
            "replace AudioWAV/1001_DFA_ANG_XX.wav? [y]es, [n]o, [A]ll, [N]one, [r]ename: None\n"
          ]
        }
      ]
    },
    {
      "cell_type": "code",
      "source": [
        "# Using load_audio_files function\n",
        "audio_array = load_audio_files(folder_path = '/content/AudioWAV', resampling_frequency=16000)\n",
        "print('number of audio files: {}'.format(len(audio_array)))"
      ],
      "metadata": {
        "colab": {
          "base_uri": "https://localhost:8080/"
        },
        "id": "yUAoPgQ7ZtF5",
        "outputId": "35c3be69-729a-43be-8efb-93ebb70a2761"
      },
      "execution_count": null,
      "outputs": [
        {
          "output_type": "stream",
          "name": "stdout",
          "text": [
            "number of audio files: 7442\n"
          ]
        }
      ]
    },
    {
      "cell_type": "markdown",
      "source": [
        "# Example 3: SAVEE"
      ],
      "metadata": {
        "id": "5WHmaxE5W55T"
      }
    },
    {
      "cell_type": "code",
      "source": [
        "! kaggle datasets download -d barelydedicated/savee-database"
      ],
      "metadata": {
        "colab": {
          "base_uri": "https://localhost:8080/"
        },
        "id": "Sqpn0c1_Vt7H",
        "outputId": "654f526c-4313-4829-db9a-8b40e7d70c1e"
      },
      "execution_count": null,
      "outputs": [
        {
          "output_type": "stream",
          "name": "stdout",
          "text": [
            "savee-database.zip: Skipping, found more recently modified local copy (use --force to force download)\n"
          ]
        }
      ]
    },
    {
      "cell_type": "code",
      "source": [
        "! unzip savee-database.zip"
      ],
      "metadata": {
        "colab": {
          "base_uri": "https://localhost:8080/"
        },
        "id": "ktLwdX3pXKDd",
        "outputId": "096391d6-dbd5-47be-bb13-c0b834c0c8e0"
      },
      "execution_count": null,
      "outputs": [
        {
          "output_type": "stream",
          "name": "stdout",
          "text": [
            "Archive:  savee-database.zip\n",
            "replace AudioData/DC/a01.wav? [y]es, [n]o, [A]ll, [N]one, [r]ename: None\n"
          ]
        }
      ]
    },
    {
      "cell_type": "code",
      "source": [
        "# Using load_audio_files function\n",
        "audio_array = load_audio_files(folder_path = '/content/AudioData/DC', resampling_frequency=16000)\n",
        "print('number of audio files: {}'.format(len(audio_array)))"
      ],
      "metadata": {
        "colab": {
          "base_uri": "https://localhost:8080/"
        },
        "id": "ya3GQDg_XO5k",
        "outputId": "3f6ee59f-0e6e-4066-a860-41fa9733dd01"
      },
      "execution_count": null,
      "outputs": [
        {
          "output_type": "stream",
          "name": "stdout",
          "text": [
            "number of audio files: 120\n"
          ]
        }
      ]
    },
    {
      "cell_type": "code",
      "source": [
        ""
      ],
      "metadata": {
        "id": "hed_5ILyX0ia"
      },
      "execution_count": null,
      "outputs": []
    }
  ]
}