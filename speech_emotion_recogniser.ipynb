{
  "cells": [
    {
      "cell_type": "markdown",
      "metadata": {
        "id": "view-in-github",
        "colab_type": "text"
      },
      "source": [
        "<a href=\"https://colab.research.google.com/github/satvik-dixit/speech_emotion_recognition/blob/main/speech_emotion_recogniser.ipynb\" target=\"_parent\"><img src=\"https://colab.research.google.com/assets/colab-badge.svg\" alt=\"Open In Colab\"/></a>"
      ]
    },
    {
      "cell_type": "markdown",
      "metadata": {
        "id": "ziyDk4cxk1wh"
      },
      "source": [
        "# Speech Emotion Recogniser\n",
        "\n",
        "A notebook to identify the emotion of an utterance in English. Trained on RAVDESS. The demo has been divided into 3 phases:\n",
        "- Phase 1: Uploading Audio File\n",
        "- Phase 2: Loading RAVDESS and extracting metadata\n",
        "- Phase 3: Speech Emotion Recognotion\n",
        "\n"
      ]
    },
    {
      "cell_type": "markdown",
      "source": [
        "### About RAVDESS:\n",
        "- English\n",
        "- 7356 recordings\n",
        "- 24 actors (12 female, 12 male)\n",
        "- 8 emotions: neutral, calm, happy, sad, angry, fearful, surprise, and disgust\n",
        "\n",
        "### References:\n",
        "- Dataset: https://zenodo.org/record/1188976#.YvyPHexBy3K\n",
        "- Paper: https://journals.plos.org/plosone/article?id=10.1371/journal.pone.0196391\n",
        "\n",
        "\n",
        "Lets start by importing a uploading the audio clip.\n"
      ],
      "metadata": {
        "id": "pZ4u3Q5X47hN"
      }
    },
    {
      "cell_type": "markdown",
      "metadata": {
        "id": "B48qMjEB-CLk"
      },
      "source": [
        "### Importing packages"
      ]
    },
    {
      "cell_type": "code",
      "execution_count": 1,
      "metadata": {
        "colab": {
          "base_uri": "https://localhost:8080/"
        },
        "id": "hed_5ILyX0ia",
        "outputId": "91d3482c-6f4e-4e14-ebbd-000e04444840"
      },
      "outputs": [
        {
          "output_type": "stream",
          "name": "stdout",
          "text": [
            "\u001b[K     |████████████████████████████████| 79 kB 4.6 MB/s \n",
            "\u001b[K     |████████████████████████████████| 117 kB 16.7 MB/s \n",
            "\u001b[?25h  Building wheel for antlr4-python3-runtime (setup.py) ... \u001b[?25l\u001b[?25hdone\n",
            "\u001b[K     |████████████████████████████████| 75 kB 3.6 MB/s \n",
            "\u001b[?25hLooking in indexes: https://pypi.org/simple, https://us-python.pkg.dev/colab-wheels/public/simple/\n",
            "Collecting ffmpeg-python\n",
            "  Downloading ffmpeg_python-0.2.0-py3-none-any.whl (25 kB)\n",
            "Requirement already satisfied: future in /usr/local/lib/python3.7/dist-packages (from ffmpeg-python) (0.16.0)\n",
            "Installing collected packages: ffmpeg-python\n",
            "Successfully installed ffmpeg-python-0.2.0\n"
          ]
        }
      ],
      "source": [
        "!git clone -q https://github.com/GasserElbanna/serab-byols.git\n",
        "!python3 -m pip install -q -e ./serab-byols\n",
        "!pip install -q omegaconf torchaudio pydub\n",
        "!pip install -q tqdm==4.60.0\n",
        "!pip install ffmpeg-python"
      ]
    },
    {
      "cell_type": "code",
      "source": [
        "# code to restart runtime so the packages get installed\n",
        "import os\n",
        "os.kill(os.getpid(), 9)"
      ],
      "metadata": {
        "id": "AqOAV-b4m-kZ"
      },
      "execution_count": null,
      "outputs": []
    },
    {
      "cell_type": "code",
      "execution_count": 1,
      "metadata": {
        "id": "aTY1RZ4UwCsG"
      },
      "outputs": [],
      "source": [
        "import os\n",
        "import numpy as np\n",
        "from tqdm import tqdm\n",
        "from glob import glob\n",
        "from random import sample\n",
        "from pathlib import Path \n",
        "import pickle\n",
        "\n",
        "import librosa\n",
        "import soundfile as sf\n",
        "\n",
        "import torch\n",
        "import serab_byols\n",
        "\n",
        "from sklearn.svm import SVC\n",
        "from sklearn.preprocessing import StandardScaler, LabelEncoder\n",
        "from sklearn.model_selection import GridSearchCV, train_test_split\n",
        "from sklearn.metrics import classification_report\n",
        "\n",
        "import warnings\n",
        "warnings.filterwarnings('ignore')\n"
      ]
    },
    {
      "cell_type": "markdown",
      "source": [
        "# Phase 1: Loading RAVDESS audio files and extracting metadata\n",
        "\n",
        "Includes downloading the dataset, loading audio files, resampling audio files, extracting metadata\n"
      ],
      "metadata": {
        "id": "cuKPVRGinyiG"
      }
    },
    {
      "cell_type": "markdown",
      "source": [
        "### Defining a function for loading and resampling audio files"
      ],
      "metadata": {
        "id": "mcSr1Af5YzIH"
      }
    },
    {
      "cell_type": "code",
      "execution_count": 2,
      "metadata": {
        "id": "Ae5OWFUETeZC"
      },
      "outputs": [],
      "source": [
        "# Defining a function for loading and resampling audio files\n",
        "\n",
        "def load_audio_files(audio_files, resampling_frequency=16000, audio_list=None):\n",
        "  '''\n",
        "  Loads and resamples audio files \n",
        "  \n",
        "  Parameters\n",
        "  ------------\n",
        "  audio_files: string\n",
        "      The paths of the wav files \n",
        "  resampling_frequency: integer\n",
        "      The frequency which all audios will be resampled to\n",
        "  audio_list: list \n",
        "      The list of torch tensors of audios to which more audios need too be added, empty by default\n",
        "\n",
        "  Returns\n",
        "  ------------\n",
        "  audio_list: list\n",
        "      A list of torch tensors, one array for each audio file\n",
        "\n",
        "  '''\n",
        "  # Making audio_list\n",
        "  if audio_list is None:\n",
        "    audio_list = []\n",
        "\n",
        "  # Resampling\n",
        "  for audio in audio_files:\n",
        "    signal, fs = librosa.load(audio, sr=resampling_frequency)\n",
        "    audio_list.append(torch.from_numpy(signal))\n",
        "      \n",
        "  return audio_list\n",
        "        "
      ]
    },
    {
      "cell_type": "markdown",
      "source": [
        "### Metadata:\n",
        "Speakers: (24 speakers) \n",
        "- Odd numbered actors are male \n",
        "- Even numbered actors are female\n",
        "\n",
        "Labels: (8 labels)\n",
        "- 01 = neutral\n",
        "- 02 = calm\n",
        "- 03 = happy\n",
        "- 04 = sad\n",
        "- 05 = angry\n",
        "- 06 = fearful\n",
        "- 07 = disgust\n",
        "- 08 = surprised"
      ],
      "metadata": {
        "id": "zRYMAcdDB3J-"
      }
    },
    {
      "cell_type": "markdown",
      "source": [
        "### Loading and resampling audiofiles and collecting metadata on EmoDB dataset"
      ],
      "metadata": {
        "id": "PtuDXb9-OSZU"
      }
    },
    {
      "cell_type": "code",
      "execution_count": 3,
      "metadata": {
        "colab": {
          "base_uri": "https://localhost:8080/"
        },
        "id": "F9Jncl071Q_z",
        "outputId": "0e2754eb-77b3-4f24-b52a-808b11c8538e"
      },
      "outputs": [
        {
          "output_type": "stream",
          "name": "stdout",
          "text": [
            "Number of audio files: 1440\n",
            "Number of speaker classes: 24\n",
            "Speaker classes: {'08', '14', '24', '05', '12', '09', '21', '04', '06', '16', '17', '10', '03', '15', '13', '20', '11', '01', '02', '22', '23', '07', '18', '19'}\n",
            "Number of speakers: 1440\n",
            "Number of label classes: 8\n",
            "Label classes: {'DISGUST', 'ANGRY', 'NEUTRAL', 'HAPPY', 'SAD', 'FEARFUL', 'CALM', 'SURPRISE'}\n",
            "Number of labels: 1440\n"
          ]
        }
      ],
      "source": [
        "# Phase_1\n",
        "# Load dataset\n",
        "! wget -O ravdess-emotional-speech-audio.zip -q https://zenodo.org/record/1188976/files/Audio_Speech_Actors_01-24.zip?download=1\n",
        "! unzip -q ravdess-emotional-speech-audio.zip -d '/content/ravdess'\n",
        "\n",
        "# Select all the audio files\n",
        "audios = []\n",
        "for file in Path('/content/ravdess').glob(\"**/*.wav\"):\n",
        "    if not file.is_file(): \n",
        "        continue\n",
        "    audios.append(str(file))\n",
        "\n",
        "# Load and resample audio files\n",
        "audio_list = load_audio_files(audios, resampling_frequency=16000)\n",
        "\n",
        "# Making speakers list and labels list \n",
        "speakers = []\n",
        "old_labels = []\n",
        "for audio_file in audios:\n",
        "  file_name = audio_file.split('/')[4]\n",
        "  speakers.append(file_name[18:20])\n",
        "  old_labels.append(file_name[6:8])\n",
        "\n",
        "label_dict = {'01':'NEUTRAL', '02':'CALM', '03':'HAPPY', '04':'SAD', '05':'ANGRY', '06':'FEARFUL', '07':'DISGUST', '08':'SURPRISE'}\n",
        "labels = []\n",
        "for old_label in old_labels:\n",
        "  labels.append(label_dict[old_label])\n",
        "\n",
        "# Verify phase_1\n",
        "print('Number of audio files: {}'.format(len(audio_list)))\n",
        "print('Number of speaker classes: {}'.format(len(set(speakers))))\n",
        "print('Speaker classes: {}'.format(set(speakers)))\n",
        "print('Number of speakers: {}'.format(len(speakers)))\n",
        "print('Number of label classes: {}'.format(len(set(labels))))\n",
        "print('Label classes: {}'.format(set(labels)))\n",
        "print('Number of labels: {}'.format(len(labels)))\n"
      ]
    },
    {
      "cell_type": "markdown",
      "metadata": {
        "id": "-0kPY4usMGbA"
      },
      "source": [
        "# Phase 2: Defining functions for Speech Emotion Recognition\n",
        "\n"
      ]
    },
    {
      "cell_type": "markdown",
      "metadata": {
        "id": "aP3vG54u9D-r"
      },
      "source": [
        "### Audio embeddings extraction functions"
      ]
    },
    {
      "cell_type": "code",
      "execution_count": 4,
      "metadata": {
        "id": "WCNer33gwaMl"
      },
      "outputs": [],
      "source": [
        "# Defining a function for generating audio embedding extraction models\n",
        "\n",
        "def audio_embeddings_model(model_name):\n",
        "  '''\n",
        "  Generates model for embedding extraction \n",
        "  \n",
        "  Parameters\n",
        "  ------------\n",
        "  mode_name: string\n",
        "      The model to used, could be 'hybrid_byols'\n",
        "\n",
        "  Returns\n",
        "  ------------\n",
        "  model: object\n",
        "      The embedding extraction model\n",
        "  '''\n",
        "  if model_name=='hybrid_byols':\n",
        "    model_name = 'cvt'\n",
        "    checkpoint_path = \"serab-byols/checkpoints/cvt_s1-d1-e64_s2-d1-e256_s3-d1-e512_BYOLAs64x96-osandbyolaloss6373-e100-bs256-lr0003-rs42.pth\"\n",
        "    model = serab_byols.load_model(checkpoint_path, model_name)\n",
        "  return model\n",
        "\n",
        "\n",
        "# Defining a function for embedding exctraction from the audio list\n",
        "def audio_embeddings(audio_list, model_name, model, sampling_rate=16000):\n",
        "  '''\n",
        "  Loads and resamples audio files \n",
        "  \n",
        "  Parameters\n",
        "  ------------\n",
        "  audio_list: list\n",
        "      A list of arrays, one array for each audio file\n",
        "  model_name: string\n",
        "      The model to used, could be 'hybrid_byols'\n",
        "  model: object\n",
        "      The embedding extraction model generated by audio_embeddings_model function\n",
        "  sampling_rate: int\n",
        "      The sampling rate, 16 kHz by default\n",
        "\n",
        "  Returns\n",
        "  ------------\n",
        "  embeddings_array: array\n",
        "      The array containg embeddings of all audio_files, dimension (number of audio files × n_feats)\n",
        "      \n",
        "  '''\n",
        "  if model_name=='hybrid_byols':\n",
        "    embeddings_array = serab_byols.get_scene_embeddings(audio_list, model)\n",
        "  return embeddings_array\n"
      ]
    },
    {
      "cell_type": "markdown",
      "metadata": {
        "id": "91OM9gcMHWLN"
      },
      "source": [
        "### Speaker normalisation functions"
      ]
    },
    {
      "cell_type": "code",
      "execution_count": 5,
      "metadata": {
        "id": "tlFL7hMDwiqk"
      },
      "outputs": [],
      "source": [
        "# Defining a function for speaker normalisation using standard scaler\n",
        "\n",
        "def speaker_normalisation(embeddings_array, speakers):\n",
        "  '''\n",
        "  Normalises embeddings_array for each speaker\n",
        "  \n",
        "  Parameters\n",
        "  ------------\n",
        "  embeddings_array: array\n",
        "      The array of embeddings, one row for each audio file\n",
        "  speakers: list \n",
        "      The list of speakers\n",
        "\n",
        "  Returns\n",
        "  ------------\n",
        "  embeddings_array: array\n",
        "      The array containg normalised embeddings of all audio_files, dimension (number of audio files × n_feats)\n",
        "      \n",
        "  '''\n",
        "  speaker_ids = set(speakers)\n",
        "  for speaker_id in speaker_ids:\n",
        "    speaker_embeddings_indices = np.where(np.array(speakers)==speaker_id)[0]\n",
        "    speaker_embeddings = embeddings_array[speaker_embeddings_indices,:]\n",
        "    scaler = StandardScaler()\n",
        "    normalised_speaker_embeddings = scaler.fit_transform(speaker_embeddings)\n",
        "    embeddings_array[speaker_embeddings_indices] = torch.tensor(normalised_speaker_embeddings).float()\n",
        "  return embeddings_array\n"
      ]
    },
    {
      "cell_type": "markdown",
      "source": [
        "### Hyperparameter tuning functions"
      ],
      "metadata": {
        "id": "71fAXIdzcnWP"
      }
    },
    {
      "cell_type": "code",
      "execution_count": 6,
      "metadata": {
        "id": "KLj0kbWmVZ3A"
      },
      "outputs": [],
      "source": [
        "# Defining a function for hyperparameter tuning and getting the accuracy on the test set\n",
        "\n",
        "def get_hyperparams(X_train, y_train, classifier, parameters):\n",
        "  '''\n",
        "  Splits into training and testing set with different speakers\n",
        "\n",
        "  Parameters\n",
        "  ------------\n",
        "  X_train: torch tensor\n",
        "    The normalised embeddings that will be used for training\n",
        "  X_test: torch tensor\n",
        "    The normalised embeddings that will be used for testing\n",
        "  y_train: list\n",
        "    The labels that will be used for training\n",
        "  y_test: list\n",
        "    The labels that will be used for testing\n",
        "  classifier: object\n",
        "    The instance of the classification model \n",
        "  parameters: dictionary\n",
        "    The dictionary of parameters for GridSearchCV \n",
        "\n",
        "  Returns\n",
        "  ------------\n",
        "    The dictionary of the best hyperparameters\n",
        "  \n",
        "  '''\n",
        "  grid = GridSearchCV(classifier, param_grid = parameters, cv=5, scoring='recall_macro')                     \n",
        "  trained_model = grid.fit(X_train,y_train)\n",
        "  print('recall_macro :',grid.best_score_)\n",
        "  print('Best Parameters: {}'.format(grid.best_params_))\n",
        "  # prediction = grid.predict(X_test)\n",
        "  # print('PREDICTION: {}'.format(prediction))\n",
        "  return trained_model\n"
      ]
    },
    {
      "cell_type": "markdown",
      "source": [
        "### Function for recording audio"
      ],
      "metadata": {
        "id": "LiHfa4tQ_fGB"
      }
    },
    {
      "cell_type": "code",
      "source": [
        "# specify record_seconds\n",
        "record_seconds = 3\n",
        "\n",
        "from os.path import exists\n",
        "if not exists('silero-models'):\n",
        "  !git clone -q --depth 1 https://github.com/snakers4/silero-models\n",
        "%cd silero-models\n",
        "\n",
        "# silero imports\n",
        "from omegaconf import OmegaConf\n",
        "from src.silero.utils import (init_jit_model, \n",
        "                       split_into_batches,\n",
        "                       read_audio,\n",
        "                       read_batch,\n",
        "                       prepare_model_input)\n",
        "from colab_utils import (record_audio,\n",
        "                         audio_bytes_to_np,\n",
        "                         upload_audio)\n",
        "\n",
        "device = torch.device('cpu')   # you can use any pytorch device\n",
        "models = OmegaConf.load('models.yml')\n",
        "\n",
        "# imports for uploading/recording\n",
        "import ipywidgets as widgets\n",
        "from scipy.io import wavfile\n",
        "from IPython.display import Audio, display, clear_output\n",
        "from torchaudio.functional import vad\n",
        "\n",
        "model, decoder = init_jit_model(models.stt_models.en.latest.jit, device=device)\n",
        "language = \"English\"\n",
        "use_VAD = \"No\"\n",
        "record_or_upload = \"Record\" \n",
        "sample_rate = 16000\n",
        "\n",
        "\n",
        "def _record_audio(b):\n",
        "  clear_output()\n",
        "  audio = record_audio(record_seconds)\n",
        "  wavfile.write('recorded.wav', sample_rate, (32767*audio).numpy().astype(np.int16))\n",
        "%cd .."
      ],
      "metadata": {
        "id": "tefc0KgZyTIe",
        "outputId": "f90bb577-b9db-4cc6-b5a7-6319b559180b",
        "colab": {
          "base_uri": "https://localhost:8080/",
          "height": 85,
          "referenced_widgets": [
            "5a5ec1fcb1264ac0a66ffab10e668929",
            "ae04fdbdacb544d49a284cae6a1a2e65",
            "b6089fd426ae4fad9c7ddd6115da26a3",
            "ce85b5fd0cd142afb6a7fbae2ab616a5",
            "a029f239123943fda3b8a19aa549918d",
            "7b4918004fd94793b8c9b4255c0bc72c",
            "e35898f1db734dd68d863acd4f6c58fe",
            "729e67f2ce1b45438d30c10ef7c8315f",
            "bb157c075cbe4b93b288adba2256622d",
            "f042069d20d144dcbd9a6d60eed39f78",
            "3d864d19ca1147739048db3e1d35b656"
          ]
        }
      },
      "execution_count": 7,
      "outputs": [
        {
          "output_type": "stream",
          "name": "stdout",
          "text": [
            "/content/silero-models\n"
          ]
        },
        {
          "output_type": "display_data",
          "data": {
            "text/plain": [
              "  0%|          | 0.00/112M [00:00<?, ?B/s]"
            ],
            "application/vnd.jupyter.widget-view+json": {
              "version_major": 2,
              "version_minor": 0,
              "model_id": "5a5ec1fcb1264ac0a66ffab10e668929"
            }
          },
          "metadata": {}
        },
        {
          "output_type": "stream",
          "name": "stdout",
          "text": [
            "/content\n"
          ]
        }
      ]
    },
    {
      "cell_type": "markdown",
      "metadata": {
        "id": "fckGF6LiFKVI"
      },
      "source": [
        "### Pipeline function"
      ]
    },
    {
      "cell_type": "code",
      "source": [
        "# Defining a function for all steps \n",
        "\n",
        "def training_pipeline(audio_list, speakers, labels):\n",
        "  '''\n",
        "  Loads and resamples audio files \n",
        "  \n",
        "  Parameters\n",
        "  ------------\n",
        "  audio_files: string\n",
        "      The paths of the wav files \n",
        "  resampling_frequency: integer\n",
        "      The frequency which all audios will be resampled to\n",
        "  audio_list: list \n",
        "      The list of torch tensors of audios to which more audios need too be added, empty by default\n",
        "\n",
        "  Returns\n",
        "  ------------\n",
        "  audio_list: list\n",
        "      A list of torch tensors, one array for each audio file\n",
        "\n",
        "  '''\n",
        "\n",
        "  # Embeddings Extraction\n",
        "  model = audio_embeddings_model(model_name = 'hybrid_byols')\n",
        "  embeddings_array = audio_embeddings(audio_list, model_name = 'hybrid_byols', model=model)\n",
        "  # test_embeddings_array = audio_embeddings(test_list, model_name = 'hybrid_byols', model=model)\n",
        "  print('embeddings_array shape: {}'.format(embeddings_array.shape))\n",
        "  # print('test_embeddings_array shape: {}'.format(test_embeddings_array.shape))\n",
        "\n",
        "  # Speaker Normalisation\n",
        "  normalised_embeddings = speaker_normalisation(embeddings_array, speakers)\n",
        "  print('normalised_embeddings shape: {}'.format(normalised_embeddings.shape))\n",
        "  columnwise_mean = torch.mean(normalised_embeddings, 0)\n",
        "  if torch.all(columnwise_mean < 10**(-6)):\n",
        "    print('PASSED: All means are less than 10**-6')\n",
        "  else:\n",
        "    print('FAILED: All means are NOT less than 10**-6')\n",
        "\n",
        "  X_train = normalised_embeddings\n",
        "  y_train = labels\n",
        "  # X_test = test_embeddings_array\n",
        "\n",
        "  # Getting hyperparameters and checking max_recall\n",
        "  print('Support Vector Machine:')\n",
        "  classifier = SVC()\n",
        "  parameters = {'C': np.logspace(-2,4,5), 'gamma': np.logspace(-5,-3,5), 'kernel':['linear', 'poly', 'rbf']}\n",
        "  trained_model = get_hyperparams(X_train, y_train, classifier, parameters)\n",
        "  return trained_model\n",
        "  "
      ],
      "metadata": {
        "id": "bHQJ_qRRFY4W"
      },
      "execution_count": 18,
      "outputs": []
    },
    {
      "cell_type": "markdown",
      "source": [
        "# Phase 3: Training the model"
      ],
      "metadata": {
        "id": "rnB_fGjy-mpt"
      }
    },
    {
      "cell_type": "code",
      "source": [
        "trained_model = training_pipeline(audio_list, speakers, labels)"
      ],
      "metadata": {
        "id": "a3R5J8Xa-t-w",
        "outputId": "4bfc3e03-aafa-4a96-ba99-e6b9b4e3fd55",
        "colab": {
          "base_uri": "https://localhost:8080/"
        }
      },
      "execution_count": 19,
      "outputs": [
        {
          "output_type": "stream",
          "name": "stderr",
          "text": [
            "Generating Embeddings...: 100%|██████████| 1440/1440 [01:26<00:00, 16.67it/s]\n"
          ]
        },
        {
          "output_type": "stream",
          "name": "stdout",
          "text": [
            "embeddings_array shape: torch.Size([1440, 2048])\n",
            "normalised_embeddings shape: torch.Size([1440, 2048])\n",
            "PASSED: All means are less than 10**-6\n",
            "Support Vector Machine:\n",
            "recall_macro : 0.7888950742240215\n",
            "Best Parameters: {'C': 10.0, 'gamma': 3.1622776601683795e-05, 'kernel': 'rbf'}\n"
          ]
        }
      ]
    },
    {
      "cell_type": "markdown",
      "source": [
        "# Phase 4: Uploading Audio File"
      ],
      "metadata": {
        "id": "ACxJ5Cwc_Wap"
      }
    },
    {
      "cell_type": "code",
      "source": [
        "button = widgets.Button(description=\"Record Speech\")\n",
        "button.on_click(_record_audio)\n",
        "display(button)"
      ],
      "metadata": {
        "id": "Lg2KDmCxpHab",
        "outputId": "34d025fe-41bf-46e3-a09e-6d13d5ef917a",
        "colab": {
          "base_uri": "https://localhost:8080/",
          "height": 53,
          "referenced_widgets": [
            "d97a48ac9af84c73a530fe79055df7b9",
            "f28667fa43194adb86cb5a44235d7c53",
            "f98de2c702204bd8b149e9ad992c93d5"
          ]
        }
      },
      "execution_count": 25,
      "outputs": [
        {
          "output_type": "stream",
          "name": "stdout",
          "text": [
            "Starting recording for 3 seconds...\n"
          ]
        },
        {
          "output_type": "display_data",
          "data": {
            "text/plain": [
              "<IPython.core.display.Javascript object>"
            ],
            "application/javascript": [
              "\n",
              "      const sleep  = time => new Promise(resolve => setTimeout(resolve, time))\n",
              "      const b2text = blob => new Promise(resolve => {\n",
              "        const reader = new FileReader()\n",
              "        reader.onloadend = e => resolve(e.srcElement.result)\n",
              "        reader.readAsDataURL(blob)\n",
              "      })\n",
              "      var record = time => new Promise(async resolve => {\n",
              "        stream = await navigator.mediaDevices.getUserMedia({ audio: true })\n",
              "        recorder = new MediaRecorder(stream)\n",
              "        chunks = []\n",
              "        recorder.ondataavailable = e => chunks.push(e.data)\n",
              "        recorder.start()\n",
              "        await sleep(time)\n",
              "        recorder.onstop = async ()=>{\n",
              "          blob = new Blob(chunks)\n",
              "          text = await b2text(blob)\n",
              "          resolve(text)\n",
              "        }\n",
              "        recorder.stop()\n",
              "      })\n",
              "      "
            ]
          },
          "metadata": {}
        },
        {
          "output_type": "stream",
          "name": "stdout",
          "text": [
            "Finished recording!\n"
          ]
        }
      ]
    },
    {
      "cell_type": "code",
      "source": [
        "display(Audio('recorded.wav', rate=sample_rate, autoplay=False))\n",
        "audio = read_audio('recorded.wav', sample_rate)\n",
        "test_list = [audio]\n",
        "print(test_list)\n",
        "model = audio_embeddings_model(model_name = 'hybrid_byols')\n",
        "test_embeddings_array = audio_embeddings(test_list, model_name = 'hybrid_byols', model=model)"
      ],
      "metadata": {
        "id": "6EhFjoUTpIR2",
        "outputId": "e495c175-47dd-41e4-b467-89c0060b5984",
        "colab": {
          "base_uri": "https://localhost:8080/",
          "height": 111
        }
      },
      "execution_count": 26,
      "outputs": [
        {
          "output_type": "display_data",
          "data": {
            "text/plain": [
              "<IPython.lib.display.Audio object>"
            ],
            "text/html": [
              "\n",
              "                <audio  controls=\"controls\" >\n",
              "                    <source src=\"data:audio/x-wav;base64,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\" type=\"audio/x-wav\" />\n",
              "                    Your browser does not support the audio element.\n",
              "                </audio>\n",
              "              "
            ]
          },
          "metadata": {}
        },
        {
          "output_type": "stream",
          "name": "stderr",
          "text": [
            "Generating Embeddings...: 100%|██████████| 1/1 [00:00<00:00, 21.17it/s]"
          ]
        },
        {
          "output_type": "stream",
          "name": "stdout",
          "text": [
            "[tensor([0.0000, 0.0000, 0.0000,  ..., 0.0007, 0.0007, 0.0009])]\n"
          ]
        },
        {
          "output_type": "stream",
          "name": "stderr",
          "text": [
            "\n"
          ]
        }
      ]
    },
    {
      "cell_type": "markdown",
      "source": [
        "# Results\n",
        "\n",
        "Getting the emotion of the audio based on a model trained using Hybrid BYOL-S on RAVDESS"
      ],
      "metadata": {
        "id": "Du0u4bUWIoz7"
      }
    },
    {
      "cell_type": "code",
      "execution_count": 27,
      "metadata": {
        "id": "4TusdAY0rphr",
        "colab": {
          "base_uri": "https://localhost:8080/"
        },
        "outputId": "e571a60d-7a44-47a7-fbba-e5862207b624"
      },
      "outputs": [
        {
          "output_type": "stream",
          "name": "stdout",
          "text": [
            "['DISGUST']\n"
          ]
        }
      ],
      "source": [
        "emotion = trained_model.predict(test_embeddings_array)\n",
        "print(emotion)"
      ]
    },
    {
      "cell_type": "code",
      "source": [],
      "metadata": {
        "id": "yJgxonzSFrS2"
      },
      "execution_count": null,
      "outputs": []
    }
  ],
  "metadata": {
    "colab": {
      "collapsed_sections": [
        "B48qMjEB-CLk",
        "ACxJ5Cwc_Wap",
        "mcSr1Af5YzIH",
        "PtuDXb9-OSZU",
        "aP3vG54u9D-r",
        "91OM9gcMHWLN",
        "71fAXIdzcnWP",
        "fckGF6LiFKVI"
      ],
      "name": "speech_emotion_recogniser.ipynb",
      "provenance": [],
      "authorship_tag": "ABX9TyO1CDGtVUHL2Pz2O8B6MaOW",
      "include_colab_link": true
    },
    "gpuClass": "standard",
    "kernelspec": {
      "display_name": "Python 3",
      "name": "python3"
    },
    "language_info": {
      "name": "python"
    },
    "widgets": {
      "application/vnd.jupyter.widget-state+json": {
        "5a5ec1fcb1264ac0a66ffab10e668929": {
          "model_module": "@jupyter-widgets/controls",
          "model_name": "HBoxModel",
          "model_module_version": "1.5.0",
          "state": {
            "_dom_classes": [],
            "_model_module": "@jupyter-widgets/controls",
            "_model_module_version": "1.5.0",
            "_model_name": "HBoxModel",
            "_view_count": null,
            "_view_module": "@jupyter-widgets/controls",
            "_view_module_version": "1.5.0",
            "_view_name": "HBoxView",
            "box_style": "",
            "children": [
              "IPY_MODEL_ae04fdbdacb544d49a284cae6a1a2e65",
              "IPY_MODEL_b6089fd426ae4fad9c7ddd6115da26a3",
              "IPY_MODEL_ce85b5fd0cd142afb6a7fbae2ab616a5"
            ],
            "layout": "IPY_MODEL_a029f239123943fda3b8a19aa549918d"
          }
        },
        "ae04fdbdacb544d49a284cae6a1a2e65": {
          "model_module": "@jupyter-widgets/controls",
          "model_name": "HTMLModel",
          "model_module_version": "1.5.0",
          "state": {
            "_dom_classes": [],
            "_model_module": "@jupyter-widgets/controls",
            "_model_module_version": "1.5.0",
            "_model_name": "HTMLModel",
            "_view_count": null,
            "_view_module": "@jupyter-widgets/controls",
            "_view_module_version": "1.5.0",
            "_view_name": "HTMLView",
            "description": "",
            "description_tooltip": null,
            "layout": "IPY_MODEL_7b4918004fd94793b8c9b4255c0bc72c",
            "placeholder": "​",
            "style": "IPY_MODEL_e35898f1db734dd68d863acd4f6c58fe",
            "value": "100%"
          }
        },
        "b6089fd426ae4fad9c7ddd6115da26a3": {
          "model_module": "@jupyter-widgets/controls",
          "model_name": "FloatProgressModel",
          "model_module_version": "1.5.0",
          "state": {
            "_dom_classes": [],
            "_model_module": "@jupyter-widgets/controls",
            "_model_module_version": "1.5.0",
            "_model_name": "FloatProgressModel",
            "_view_count": null,
            "_view_module": "@jupyter-widgets/controls",
            "_view_module_version": "1.5.0",
            "_view_name": "ProgressView",
            "bar_style": "success",
            "description": "",
            "description_tooltip": null,
            "layout": "IPY_MODEL_729e67f2ce1b45438d30c10ef7c8315f",
            "max": 117227874,
            "min": 0,
            "orientation": "horizontal",
            "style": "IPY_MODEL_bb157c075cbe4b93b288adba2256622d",
            "value": 117227874
          }
        },
        "ce85b5fd0cd142afb6a7fbae2ab616a5": {
          "model_module": "@jupyter-widgets/controls",
          "model_name": "HTMLModel",
          "model_module_version": "1.5.0",
          "state": {
            "_dom_classes": [],
            "_model_module": "@jupyter-widgets/controls",
            "_model_module_version": "1.5.0",
            "_model_name": "HTMLModel",
            "_view_count": null,
            "_view_module": "@jupyter-widgets/controls",
            "_view_module_version": "1.5.0",
            "_view_name": "HTMLView",
            "description": "",
            "description_tooltip": null,
            "layout": "IPY_MODEL_f042069d20d144dcbd9a6d60eed39f78",
            "placeholder": "​",
            "style": "IPY_MODEL_3d864d19ca1147739048db3e1d35b656",
            "value": " 112M/112M [00:07&lt;00:00, 17.3MB/s]"
          }
        },
        "a029f239123943fda3b8a19aa549918d": {
          "model_module": "@jupyter-widgets/base",
          "model_name": "LayoutModel",
          "model_module_version": "1.2.0",
          "state": {
            "_model_module": "@jupyter-widgets/base",
            "_model_module_version": "1.2.0",
            "_model_name": "LayoutModel",
            "_view_count": null,
            "_view_module": "@jupyter-widgets/base",
            "_view_module_version": "1.2.0",
            "_view_name": "LayoutView",
            "align_content": null,
            "align_items": null,
            "align_self": null,
            "border": null,
            "bottom": null,
            "display": null,
            "flex": null,
            "flex_flow": null,
            "grid_area": null,
            "grid_auto_columns": null,
            "grid_auto_flow": null,
            "grid_auto_rows": null,
            "grid_column": null,
            "grid_gap": null,
            "grid_row": null,
            "grid_template_areas": null,
            "grid_template_columns": null,
            "grid_template_rows": null,
            "height": null,
            "justify_content": null,
            "justify_items": null,
            "left": null,
            "margin": null,
            "max_height": null,
            "max_width": null,
            "min_height": null,
            "min_width": null,
            "object_fit": null,
            "object_position": null,
            "order": null,
            "overflow": null,
            "overflow_x": null,
            "overflow_y": null,
            "padding": null,
            "right": null,
            "top": null,
            "visibility": null,
            "width": null
          }
        },
        "7b4918004fd94793b8c9b4255c0bc72c": {
          "model_module": "@jupyter-widgets/base",
          "model_name": "LayoutModel",
          "model_module_version": "1.2.0",
          "state": {
            "_model_module": "@jupyter-widgets/base",
            "_model_module_version": "1.2.0",
            "_model_name": "LayoutModel",
            "_view_count": null,
            "_view_module": "@jupyter-widgets/base",
            "_view_module_version": "1.2.0",
            "_view_name": "LayoutView",
            "align_content": null,
            "align_items": null,
            "align_self": null,
            "border": null,
            "bottom": null,
            "display": null,
            "flex": null,
            "flex_flow": null,
            "grid_area": null,
            "grid_auto_columns": null,
            "grid_auto_flow": null,
            "grid_auto_rows": null,
            "grid_column": null,
            "grid_gap": null,
            "grid_row": null,
            "grid_template_areas": null,
            "grid_template_columns": null,
            "grid_template_rows": null,
            "height": null,
            "justify_content": null,
            "justify_items": null,
            "left": null,
            "margin": null,
            "max_height": null,
            "max_width": null,
            "min_height": null,
            "min_width": null,
            "object_fit": null,
            "object_position": null,
            "order": null,
            "overflow": null,
            "overflow_x": null,
            "overflow_y": null,
            "padding": null,
            "right": null,
            "top": null,
            "visibility": null,
            "width": null
          }
        },
        "e35898f1db734dd68d863acd4f6c58fe": {
          "model_module": "@jupyter-widgets/controls",
          "model_name": "DescriptionStyleModel",
          "model_module_version": "1.5.0",
          "state": {
            "_model_module": "@jupyter-widgets/controls",
            "_model_module_version": "1.5.0",
            "_model_name": "DescriptionStyleModel",
            "_view_count": null,
            "_view_module": "@jupyter-widgets/base",
            "_view_module_version": "1.2.0",
            "_view_name": "StyleView",
            "description_width": ""
          }
        },
        "729e67f2ce1b45438d30c10ef7c8315f": {
          "model_module": "@jupyter-widgets/base",
          "model_name": "LayoutModel",
          "model_module_version": "1.2.0",
          "state": {
            "_model_module": "@jupyter-widgets/base",
            "_model_module_version": "1.2.0",
            "_model_name": "LayoutModel",
            "_view_count": null,
            "_view_module": "@jupyter-widgets/base",
            "_view_module_version": "1.2.0",
            "_view_name": "LayoutView",
            "align_content": null,
            "align_items": null,
            "align_self": null,
            "border": null,
            "bottom": null,
            "display": null,
            "flex": null,
            "flex_flow": null,
            "grid_area": null,
            "grid_auto_columns": null,
            "grid_auto_flow": null,
            "grid_auto_rows": null,
            "grid_column": null,
            "grid_gap": null,
            "grid_row": null,
            "grid_template_areas": null,
            "grid_template_columns": null,
            "grid_template_rows": null,
            "height": null,
            "justify_content": null,
            "justify_items": null,
            "left": null,
            "margin": null,
            "max_height": null,
            "max_width": null,
            "min_height": null,
            "min_width": null,
            "object_fit": null,
            "object_position": null,
            "order": null,
            "overflow": null,
            "overflow_x": null,
            "overflow_y": null,
            "padding": null,
            "right": null,
            "top": null,
            "visibility": null,
            "width": null
          }
        },
        "bb157c075cbe4b93b288adba2256622d": {
          "model_module": "@jupyter-widgets/controls",
          "model_name": "ProgressStyleModel",
          "model_module_version": "1.5.0",
          "state": {
            "_model_module": "@jupyter-widgets/controls",
            "_model_module_version": "1.5.0",
            "_model_name": "ProgressStyleModel",
            "_view_count": null,
            "_view_module": "@jupyter-widgets/base",
            "_view_module_version": "1.2.0",
            "_view_name": "StyleView",
            "bar_color": null,
            "description_width": ""
          }
        },
        "f042069d20d144dcbd9a6d60eed39f78": {
          "model_module": "@jupyter-widgets/base",
          "model_name": "LayoutModel",
          "model_module_version": "1.2.0",
          "state": {
            "_model_module": "@jupyter-widgets/base",
            "_model_module_version": "1.2.0",
            "_model_name": "LayoutModel",
            "_view_count": null,
            "_view_module": "@jupyter-widgets/base",
            "_view_module_version": "1.2.0",
            "_view_name": "LayoutView",
            "align_content": null,
            "align_items": null,
            "align_self": null,
            "border": null,
            "bottom": null,
            "display": null,
            "flex": null,
            "flex_flow": null,
            "grid_area": null,
            "grid_auto_columns": null,
            "grid_auto_flow": null,
            "grid_auto_rows": null,
            "grid_column": null,
            "grid_gap": null,
            "grid_row": null,
            "grid_template_areas": null,
            "grid_template_columns": null,
            "grid_template_rows": null,
            "height": null,
            "justify_content": null,
            "justify_items": null,
            "left": null,
            "margin": null,
            "max_height": null,
            "max_width": null,
            "min_height": null,
            "min_width": null,
            "object_fit": null,
            "object_position": null,
            "order": null,
            "overflow": null,
            "overflow_x": null,
            "overflow_y": null,
            "padding": null,
            "right": null,
            "top": null,
            "visibility": null,
            "width": null
          }
        },
        "3d864d19ca1147739048db3e1d35b656": {
          "model_module": "@jupyter-widgets/controls",
          "model_name": "DescriptionStyleModel",
          "model_module_version": "1.5.0",
          "state": {
            "_model_module": "@jupyter-widgets/controls",
            "_model_module_version": "1.5.0",
            "_model_name": "DescriptionStyleModel",
            "_view_count": null,
            "_view_module": "@jupyter-widgets/base",
            "_view_module_version": "1.2.0",
            "_view_name": "StyleView",
            "description_width": ""
          }
        },
        "d97a48ac9af84c73a530fe79055df7b9": {
          "model_module": "@jupyter-widgets/controls",
          "model_name": "ButtonModel",
          "model_module_version": "1.5.0",
          "state": {
            "_dom_classes": [],
            "_model_module": "@jupyter-widgets/controls",
            "_model_module_version": "1.5.0",
            "_model_name": "ButtonModel",
            "_view_count": null,
            "_view_module": "@jupyter-widgets/controls",
            "_view_module_version": "1.5.0",
            "_view_name": "ButtonView",
            "button_style": "",
            "description": "Record Speech",
            "disabled": false,
            "icon": "",
            "layout": "IPY_MODEL_f28667fa43194adb86cb5a44235d7c53",
            "style": "IPY_MODEL_f98de2c702204bd8b149e9ad992c93d5",
            "tooltip": ""
          }
        },
        "f28667fa43194adb86cb5a44235d7c53": {
          "model_module": "@jupyter-widgets/base",
          "model_name": "LayoutModel",
          "model_module_version": "1.2.0",
          "state": {
            "_model_module": "@jupyter-widgets/base",
            "_model_module_version": "1.2.0",
            "_model_name": "LayoutModel",
            "_view_count": null,
            "_view_module": "@jupyter-widgets/base",
            "_view_module_version": "1.2.0",
            "_view_name": "LayoutView",
            "align_content": null,
            "align_items": null,
            "align_self": null,
            "border": null,
            "bottom": null,
            "display": null,
            "flex": null,
            "flex_flow": null,
            "grid_area": null,
            "grid_auto_columns": null,
            "grid_auto_flow": null,
            "grid_auto_rows": null,
            "grid_column": null,
            "grid_gap": null,
            "grid_row": null,
            "grid_template_areas": null,
            "grid_template_columns": null,
            "grid_template_rows": null,
            "height": null,
            "justify_content": null,
            "justify_items": null,
            "left": null,
            "margin": null,
            "max_height": null,
            "max_width": null,
            "min_height": null,
            "min_width": null,
            "object_fit": null,
            "object_position": null,
            "order": null,
            "overflow": null,
            "overflow_x": null,
            "overflow_y": null,
            "padding": null,
            "right": null,
            "top": null,
            "visibility": null,
            "width": null
          }
        },
        "f98de2c702204bd8b149e9ad992c93d5": {
          "model_module": "@jupyter-widgets/controls",
          "model_name": "ButtonStyleModel",
          "model_module_version": "1.5.0",
          "state": {
            "_model_module": "@jupyter-widgets/controls",
            "_model_module_version": "1.5.0",
            "_model_name": "ButtonStyleModel",
            "_view_count": null,
            "_view_module": "@jupyter-widgets/base",
            "_view_module_version": "1.2.0",
            "_view_name": "StyleView",
            "button_color": null,
            "font_weight": ""
          }
        }
      }
    }
  },
  "nbformat": 4,
  "nbformat_minor": 0
}