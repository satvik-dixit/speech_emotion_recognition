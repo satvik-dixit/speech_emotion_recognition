{
 "cells": [
  {
   "cell_type": "code",
   "execution_count": 2,
   "id": "c8fe8526",
   "metadata": {},
   "outputs": [],
   "source": [
    "import numpy as np\n",
    "import soundfile as sf\n",
    "import wget"
   ]
  },
  {
   "cell_type": "code",
   "execution_count": 4,
   "id": "29d4dd48",
   "metadata": {},
   "outputs": [
    {
     "ename": "SyntaxError",
     "evalue": "invalid syntax (<ipython-input-4-09e3943f1927>, line 19)",
     "output_type": "error",
     "traceback": [
      "\u001b[0;36m  File \u001b[0;32m\"<ipython-input-4-09e3943f1927>\"\u001b[0;36m, line \u001b[0;32m19\u001b[0m\n\u001b[0;31m    wget http://emodb.bilderbar.info/download/download.zip\u001b[0m\n\u001b[0m         ^\u001b[0m\n\u001b[0;31mSyntaxError\u001b[0m\u001b[0;31m:\u001b[0m invalid syntax\n"
     ]
    }
   ],
   "source": [
    "def load_audio_files(folder_path, resampling_frequency=16000):\n",
    "    '''\n",
    "    Loads and resamples audio files \n",
    "    \n",
    "    Parameters\n",
    "    ------------\n",
    "    folder_path: string\n",
    "        The path of the folder containing audio files to be loaded\n",
    "    resampling_frequency: integer\n",
    "        The frequency which all audios will be resampled to\n",
    "    \n",
    "    Returns\n",
    "    ------------\n",
    "    audio_array: list of arrays\n",
    "        A list of arrays, one array for each audio file\n",
    "        \n",
    "    '''\n",
    "    \n",
    "    wget http://emodb.bilderbar.info/download/download.zip\n",
    "    unzip download.zip\n",
    "    \n",
    "    audio_array = []\n",
    "    for audio in audio_files:\n",
    "        \n",
    "    "
   ]
  },
  {
   "cell_type": "code",
   "execution_count": null,
   "id": "9484d185",
   "metadata": {},
   "outputs": [],
   "source": []
  }
 ],
 "metadata": {
  "kernelspec": {
   "display_name": "Python 3",
   "language": "python",
   "name": "python3"
  },
  "language_info": {
   "codemirror_mode": {
    "name": "ipython",
    "version": 3
   },
   "file_extension": ".py",
   "mimetype": "text/x-python",
   "name": "python",
   "nbconvert_exporter": "python",
   "pygments_lexer": "ipython3",
   "version": "3.9.5"
  }
 },
 "nbformat": 4,
 "nbformat_minor": 5
}
